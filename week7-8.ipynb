{
 "cells": [
  {
   "cell_type": "markdown",
   "metadata": {},
   "source": [
    "## week 7-8: File Handling and Handling Exceptions\n",
    "\n",
    "We will dive into the world of file handling in Python3. This is important for working with external data, such as reading from files and writing dataa to files. You will learn to interact with file objects, understand file modes and handle exceptions that may arise during file operations.\n",
    "\n",
    "**1. Reading and write files**\n",
    "\n",
    "file handling allows us to read data from existing files and create new files to store data. You will lern how to use the `open()` function to open files for reading and writing. Reading files, you will explore how to use methods like `read()` and `readline` to read the content of a file. Writing files: we'll use methods like `write()` and `writeline()` to write data to files.\n"
   ]
  },
  {
   "cell_type": "code",
   "execution_count": 5,
   "metadata": {},
   "outputs": [
    {
     "name": "stdout",
     "output_type": "stream",
     "text": [
      "opening, reading , writing and closing files\n"
     ]
    }
   ],
   "source": [
    "# reading  a file \n",
    "with open(\"example.txt\", \"r\") as file:\n",
    "    content = file.read()\n",
    "    print(content)\n",
    "\n",
    "# writing to a file\n",
    "# with ensures that the file is properly closed after use\n",
    "with open(\"example.txt\", \"w\") as file:\n",
    "    file.write(\"opening, reading , writing and closing files\")\n",
    "\n",
    "# files can be opened in different modes: \"r\", \"w\", \"a\" and combinations like \"rb\" \"wb\" for reading binary files\n"
   ]
  },
  {
   "cell_type": "markdown",
   "metadata": {},
   "source": [
    "**2. Handling Exceptions**\n",
    "Programming errors can be said to be of two types: error in data and errors in code.\n",
    "Errors in data is when the user feeds the program unintended data type which causes the program to terminate, while error in code, commonly referred to us bugs are mistakes you make when writing the program. At the end of this section you should be able to write code with little to no errors and bugs.\n",
    "\n",
    "-**when data is not what it should be**\n",
    "\"When data is not what it should be, without appropriate syntax to catch user errors, the execution of our program fails if users input the wrong data type, leaving us with dissatisfied users. This is where exceptions come in. In the editor below, the two branches, `try` and `except`, will handle our errors. The `try` block is the place where you put the code you suspect is risky and may terminate in case of an error. The `except` block is designed to handle the exception, either correct the problem or deal with it. The code in the `except` block is only executed when an exception has been encountered inside the `try` block.\n",
    "\n",
    "If you try to catch other errors like `ZeroDivisionError`, you can introduce another `except` block with the exception name to handle it. This will ensure that the exception encountered in the `try` block is passed to the appropriate `except` block to handle it. Since there are many errors that may occur, the number of `except` blocks is unlimited; just don't repeat an exception more than once. A default `except` block can be placed at the end of the code block to catch exceptions with no dedicated exception handler.\"\n",
    "\n",
    "exceptions such as `FileNotFoundError` or `PermissionError` can occur during file handling. To counter them, we use `try` and `except` blocks to catch and handle exceptions gracefully."
   ]
  },
  {
   "cell_type": "code",
   "execution_count": 26,
   "metadata": {},
   "outputs": [
    {
     "name": "stdout",
     "output_type": "stream",
     "text": [
      "please provide an integer \n"
     ]
    }
   ],
   "source": [
    "\n",
    "try:\n",
    "    t = int(input(\"enter a number to find its reciprocal: \"))\n",
    "    print(1 / t)\n",
    "except ValueError:\n",
    "    print(\"please provide an integer \")\n",
    "except ZeroDivisionError:\n",
    "    print(\"please no zeros\")\n",
    "except:\n",
    "    print(\"somthing wrong has happened\")\n"
   ]
  },
  {
   "cell_type": "markdown",
   "metadata": {},
   "source": [
    "**tests, testing and testers**\n",
    "The never ending struggle with errors continues. A tester is a developers best friend, testers help catch errors that the dev didn't notice. As a dev it is your duty to continually test your code against errors, but at certain points you have to catch bugs and how then do  you debug? To play this role you need to arm yourself with a debugger and start debugging your code. With a debugger, you can execute your code line-by-line, inspect all the variables states and change their values on demand without modifying the source code, stop execution when certain conditions are or aren't met, and do lots of other useful tasks. Most IDEs come with a debugger, search for one in your debug and custom yourself how to use it.\n",
    "\n",
    "**print debugging** also known as interactive debugging, is a debuging tactic where you just insert several additional `print()` invocations inside your code to output data which illustrates the path your code is currently negotiating. Remeber to only use where appropriate don't use obscene words for the purpose."
   ]
  }
 ],
 "metadata": {
  "kernelspec": {
   "display_name": "Python 3",
   "language": "python",
   "name": "python3"
  },
  "language_info": {
   "codemirror_mode": {
    "name": "ipython",
    "version": 3
   },
   "file_extension": ".py",
   "mimetype": "text/x-python",
   "name": "python",
   "nbconvert_exporter": "python",
   "pygments_lexer": "ipython3",
   "version": "3.11.5"
  },
  "orig_nbformat": 4
 },
 "nbformat": 4,
 "nbformat_minor": 2
}
