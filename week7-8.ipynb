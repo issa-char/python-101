{
 "cells": [
  {
   "cell_type": "markdown",
   "metadata": {},
   "source": [
    "## week 7-8: File Handling\n",
    "\n",
    "We will dive into the world of file handling in Python3. This is important for working with external data, such as reading from files and writing dataa to files. You will learn to interact with file objects, understand file modes and handle exceptions that may arise during file operations.\n",
    "\n",
    "**1. Reading and write files**\n",
    "\n",
    "file handling allows us to read data from existing files and create new files to store data. You will lern how to use the `open()` function to open files for reading and writing. Reading files, you will explore how to use methods like `read()` and `readline` to read the content of a file. Writing files: we'll use methods like `write()` and `writeline()` to write data to files.\n"
   ]
  },
  {
   "cell_type": "code",
   "execution_count": null,
   "metadata": {},
   "outputs": [],
   "source": [
    "# reading  a file \n",
    "with open(\"example.txt\", \"r\") as file:\n",
    "    content = file.read()\n",
    "    print(content)\n",
    "\n",
    "# writing to a file\n",
    "# with ensures that the file is properly closed after use\n",
    "with open(\"example.txt\", \"w\") as file:\n",
    "    file.write(\"opening, reading , writing and closing files\")\n",
    "\n",
    "# files can be opened in different modes: \"r\", \"w\", \"a\" and combinations like \"rb\" \"wb\" for reading binary files\n"
   ]
  }
 ],
 "metadata": {
  "kernelspec": {
   "display_name": "Python 3",
   "language": "python",
   "name": "python3"
  },
  "language_info": {
   "codemirror_mode": {
    "name": "ipython",
    "version": 3
   },
   "file_extension": ".py",
   "mimetype": "text/x-python",
   "name": "python",
   "nbconvert_exporter": "python",
   "pygments_lexer": "ipython3",
   "version": "3.11.5"
  },
  "orig_nbformat": 4
 },
 "nbformat": 4,
 "nbformat_minor": 2
}
