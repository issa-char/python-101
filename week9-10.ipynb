{
 "cells": [
  {
   "cell_type": "markdown",
   "metadata": {},
   "source": [
    "## Week 9-10: Object-Oriented Programming(OOP)\n",
    "\n",
    "- principles of OOP\n",
    "- create classes and objects\n",
    "- explore usage\n",
    "\n",
    "**principles of OOP**\n",
    "+ objects and classess\n",
    "a class is a blueprint/template for creating objects while an object is an instance of a class.\n",
    "+ abstration\n",
    "simplifying complex reality by modelling classes based on their essential properties and beharviors. Abstract classes are used as a base class for other classes\n",
    "+ polymorphism\n",
    "allows objects of diffferent classes to be treated as objects of a common base class. Enables dynamic method dispatch \n",
    "+ inheritance\n",
    "allows you create a new class that inherits properties and methods from an existing class. Python3 supports single and multiple inheritance\n",
    "+ encapsulation\n",
    "bundling of data/attributes and methods that operate on that data into a single unit class.\n",
    "+ methods\n",
    "functions defined inside a class and operate on class attributes\n",
    "+ attributes\n",
    "variables that belong to an object and hold data\n"
   ]
  },
  {
   "cell_type": "code",
   "execution_count": 2,
   "metadata": {},
   "outputs": [
    {
     "name": "stdout",
     "output_type": "stream",
     "text": [
      "Mikey says woof\n",
      "Bruno says bark\n",
      "Mikey is 20 years old\n",
      "Bruno is 16 years old\n"
     ]
    }
   ],
   "source": [
    "class dog:\n",
    "    # class attribute\n",
    "    species = \"Canis familiaris\"\n",
    "\n",
    "    # initializer/constructor\n",
    "    def __init__(self, name, age):\n",
    "        self.name = name\n",
    "        self.age = age\n",
    "    # instance method\n",
    "    def description(self):\n",
    "        return (f\"{self.name} is {self.age} years old\")\n",
    "    # instance method\n",
    "    def speak(self, sound):\n",
    "        return (f\"{self.name} says {sound}\")\n",
    "\n",
    "# creating objects/instance\n",
    "dog1 = dog(\"Mikey\", 20)\n",
    "dog2 = dog(\"Bruno\", 16)\n",
    "\n",
    "print(dog1.speak(\"woof!\"))\n",
    "print(dog2.speak(\"bark!\"))\n",
    "print(dog1.description())\n",
    "print(dog2.description())\n",
    "\n",
    "\n"
   ]
  }
 ],
 "metadata": {
  "kernelspec": {
   "display_name": "Python 3",
   "language": "python",
   "name": "python3"
  },
  "language_info": {
   "codemirror_mode": {
    "name": "ipython",
    "version": 3
   },
   "file_extension": ".py",
   "mimetype": "text/x-python",
   "name": "python",
   "nbconvert_exporter": "python",
   "pygments_lexer": "ipython3",
   "version": "3.11.5"
  },
  "orig_nbformat": 4
 },
 "nbformat": 4,
 "nbformat_minor": 2
}
