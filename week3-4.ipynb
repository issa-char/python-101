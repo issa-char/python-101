{
 "cells": [
  {
   "cell_type": "markdown",
   "metadata": {},
   "source": [
    "## Week 3-4: Control structures and functions\n",
    "\n",
    "Conditional statements are essential for controlling the flow of your program based on certain conditions. They allow your code to respond dynamically to different inputs and conditions, making your programs more powerful and flexible. By mastering conditonal statements, you can control the flow of your code and execute specific blocks of code based on various situations.\n",
    "Conditions are expressions or statements that evaluate to either `True` or `False`. They are typically emmployed in conditional statements (`if`, `elif`, `else`), loops (`while`, `for`) and logical operations.\n",
    "conditions can involve comparisons (`x > y`), equality checks (`name == \"Alice\"`), membership checks (`item in <list>`) or complex logical expressions (`(x > 5) and (y < 10)`)."
   ]
  },
  {
   "cell_type": "markdown",
   "metadata": {},
   "source": [
    "### 1. Conditional statements (if, else, elif)\n",
    "\n",
    "**+ `if` statement:**\n",
    "The `if` statement allows you to execute a block of code only if a specified condition is true.\n",
    "Here's the basic syntax:\n",
    "\n",
    "```python\n",
    "if <condition>:\n",
    "    # code to be executed if condition is True"
   ]
  },
  {
   "cell_type": "code",
   "execution_count": 1,
   "metadata": {},
   "outputs": [
    {
     "name": "stdout",
     "output_type": "stream",
     "text": [
      "Your are an adult\n"
     ]
    }
   ],
   "source": [
    "# example\n",
    "age = 44\n",
    "\n",
    "if age >= 18:\n",
    "    print(\"Your are an adult\")"
   ]
  },
  {
   "cell_type": "markdown",
   "metadata": {},
   "source": [
    "**+ `else` statement:**\n",
    "used in conjunction with an `if` statement to specify a block of code to be executed if the condition in the in the `if` statement is false. Here's the syntax:\n",
    "\n",
    "```python\n",
    "if <condition>:\n",
    "    # code to be executed if the condition is True\n",
    "else:\n",
    "    #code to be executex if the condition is False"
   ]
  },
  {
   "cell_type": "code",
   "execution_count": 3,
   "metadata": {},
   "outputs": [
    {
     "name": "stdout",
     "output_type": "stream",
     "text": [
      "You are a minor\n"
     ]
    }
   ],
   "source": [
    "age = 15\n",
    "\n",
    "if age >= 18:\n",
    "    print(\"You are an adult\")\n",
    "else:\n",
    "    print(\"You are a minor\")"
   ]
  },
  {
   "cell_type": "markdown",
   "metadata": {},
   "source": [
    "**+ `elif` statement:**\n",
    "the elif (short for \"else if\") statement is used to check multiple conditions one by one. It follows an `if` statement or a previous `elif` statement. Here's the syntax:\n",
    "\n",
    "```python\n",
    "if condition1:\n",
    "    # code to be executed if condition1 is True\n",
    "elif condition2:\n",
    "    # code to be executed if condition2 is True\n",
    "elif condition3:\n",
    "    # code to be executed if condition3 is True\n",
    "else:\n",
    "    # code to be executed if none of the conditions is True"
   ]
  },
  {
   "cell_type": "code",
   "execution_count": 6,
   "metadata": {},
   "outputs": [
    {
     "name": "stdout",
     "output_type": "stream",
     "text": [
      "You FAILED!\n"
     ]
    }
   ],
   "source": [
    "score = 66\n",
    "\n",
    "if score >= 90:\n",
    "    print(\"A grade\")\n",
    "elif score >= 80:\n",
    "    print(\"B grade\")\n",
    "elif score >= 90:\n",
    "    print(\"C grade\")\n",
    "else:\n",
    "    print(\"You FAILED!\")"
   ]
  },
  {
   "cell_type": "markdown",
   "metadata": {},
   "source": [
    "**Nested `if` statements:**\n",
    "you can nest `if`, `elif` or `else` statements to create more complex conditional logic"
   ]
  },
  {
   "cell_type": "code",
   "execution_count": 7,
   "metadata": {},
   "outputs": [
    {
     "name": "stdout",
     "output_type": "stream",
     "text": [
      "t is greater than 30\n"
     ]
    }
   ],
   "source": [
    "t = 55\n",
    "v = 8\n",
    "\n",
    "if t > v:\n",
    "    if t > 30:\n",
    "        print(\"t is greater than 30\")\n",
    "    else:\n",
    "        print(\"t is not greater than 30, but still greater than v\")\n",
    "else:\n",
    "    print(\"v is greater than t\")"
   ]
  },
  {
   "cell_type": "markdown",
   "metadata": {},
   "source": [
    "**Logical operators:**\n",
    "Conditional statements often involve logical operators such as `and`, `or` and `not` to create more complex conditions."
   ]
  },
  {
   "cell_type": "code",
   "execution_count": 11,
   "metadata": {},
   "outputs": [
    {
     "name": "stdout",
     "output_type": "stream",
     "text": [
      "you are an adult student\n",
      "It's very hot outside\n"
     ]
    }
   ],
   "source": [
    "height = 22\n",
    "is_student = True\n",
    "\n",
    "if height >= 18 and is_student:\n",
    "    print(\"you are an adult student\")\n",
    "\n",
    "temp = 44\n",
    "is_hot = True\n",
    "\n",
    "if temp > 50 or is_hot:\n",
    "    print(\"It's very hot outside\")\n",
    "else:\n",
    "    print(\"It's cold outside\")"
   ]
  },
  {
   "cell_type": "markdown",
   "metadata": {},
   "source": [
    "### 2. Loops (while and for)\n",
    "Loops are essential for automating repetitive tasks, iterating over data and controlling program flow. Here, I'll explain these loop construct in depth:\n",
    "\n",
    "**1. `for` loops:**\n",
    "A for loop is used to iterate over a sequence (e.g a list, string or range) and execute a block of code for each item in the sequence. Here's the basic syntax:\n",
    "\n",
    "```python\n",
    "    for item in sequence:\n",
    "        # code to be executed for each item\n",
    "```\n",
    "\n",
    "`item` represents the current element in the sequence\n",
    "`sequence` is the iterable (list, tuple, string or range) over which the loop iterates"
   ]
  },
  {
   "cell_type": "code",
   "execution_count": 16,
   "metadata": {},
   "outputs": [
    {
     "name": "stdout",
     "output_type": "stream",
     "text": [
      "John\n",
      "Jack\n",
      "Mike\n",
      "Ken\n"
     ]
    }
   ],
   "source": [
    "# this is a list, don't worry about it, we'll discuss in later weeks\n",
    "names = [\"John\", \"Jack\", \"Mike\", \"Ken\"]\n",
    "\n",
    "#the for loop prints each name in the list\n",
    "for x in names:\n",
    "    print(x)"
   ]
  },
  {
   "cell_type": "markdown",
   "metadata": {},
   "source": [
    "**2. `while` loops**\n",
    "A while loop repeatedly executes a block of code as long as a specified condition remains true. A condition is an expression that evaluates to either `True` or `False` Here's the basic syntax:\n",
    "\n",
    "```python\n",
    "while condition:\n",
    "    # code to be executed as long as condition is True\n",
    "```"
   ]
  },
  {
   "cell_type": "code",
   "execution_count": 17,
   "metadata": {},
   "outputs": [
    {
     "name": "stdout",
     "output_type": "stream",
     "text": [
      "0\n",
      "1\n",
      "2\n",
      "3\n",
      "4\n"
     ]
    }
   ],
   "source": [
    "count = 0\n",
    "\n",
    "while (count < 5):\n",
    "    print(count)\n",
    "    count += 1   # loop control statement\n",
    "    "
   ]
  },
  {
   "cell_type": "markdown",
   "metadata": {},
   "source": [
    "**loop control statements** : a way of controlling the beharvior of for and while loops based on a specific condition. a statement like  `a += 2` or `a -= 2` is used to update the value of a condition to ensure the intended beharvior of the loop. `break` and `continue` provide a way to modify the  loop's beharvior allowing you to terminate or skip iterations when needed."
   ]
  },
  {
   "cell_type": "code",
   "execution_count": 24,
   "metadata": {},
   "outputs": [
    {
     "name": "stdout",
     "output_type": "stream",
     "text": [
      "55\n",
      "80\n",
      "79\n"
     ]
    }
   ],
   "source": [
    "# example with `break`\n",
    "results = [55, 80, 79, 87, 90, 100, 30, 50, 60]\n",
    "\n",
    "for i in results:\n",
    "    if (i == 87):\n",
    "        break\n",
    "    print(i)\n"
   ]
  },
  {
   "cell_type": "code",
   "execution_count": 26,
   "metadata": {},
   "outputs": [
    {
     "name": "stdout",
     "output_type": "stream",
     "text": [
      "33\n",
      "45\n",
      "99\n",
      "87\n"
     ]
    }
   ],
   "source": [
    "# example with `continue`\n",
    "results = [33, 45, 88, 99, 87, 56, 54, 32, 224]\n",
    "\n",
    "for i in results:\n",
    "    if i % 2 == 0:\n",
    "        continue\n",
    "    print(i)"
   ]
  },
  {
   "cell_type": "code",
   "execution_count": 33,
   "metadata": {},
   "outputs": [
    {
     "name": "stdout",
     "output_type": "stream",
     "text": [
      "score 80: B grade\n",
      "score 100: A+ grade\n",
      "score 120: A+ grade\n",
      "score 55: E grade\n",
      "score 87: B grade\n",
      "score 90: A grade\n",
      "score 40: E grade\n",
      "score 110: A+ grade\n",
      "the average score is 85.25 \n"
     ]
    }
   ],
   "source": [
    "# an example that combines for, while loops, if, else and elif statements.\n",
    "# this program calculates and categorizes student's grades based on their scores and calculates the average score.\n",
    "\n",
    "student_scores = [80, 100, 120, 55, 87, 90, 40, 110]\n",
    "\n",
    "for score in student_scores:\n",
    "    if score >= 100:\n",
    "        print(f\"score {score}: A+ grade\")\n",
    "    elif score >= 90:\n",
    "        print(f\"score {score}: A grade\")\n",
    "    elif score >= 80:\n",
    "        print(f\"score {score}: B grade\")\n",
    "    elif score >= 70:\n",
    "        print(f\"score {score}: C grade\")\n",
    "    elif score >= 60:\n",
    "        print(f\"score {score}: D grade\")\n",
    "    else:\n",
    "        print(f\"score {score}: E grade\")\n",
    "        \n",
    "# calculating the average score\n",
    "count = 0\n",
    "total_score = 0\n",
    "\n",
    "while count < len(student_scores):\n",
    "    total_score += student_scores[count]\n",
    "    count += 1\n",
    "\n",
    "av_score = total_score / len(student_scores)\n",
    "print(f\"the average score is {av_score} \")\n",
    "\n"
   ]
  },
  {
   "cell_type": "markdown",
   "metadata": {},
   "source": [
    "### 3. Functions\n",
    "Functions are blocks of code that perform specific tasks, and they help in organizing code, making it more modular and reusable.\n",
    "\n",
    "**defining a function:** in Python3 you define functions using the following syntax\n",
    "\n",
    "```python\n",
    "def function_name(parameter1, parameter1, ...): #\n",
    "    # function body\n",
    "    # function body\n",
    "    return return_value    #optional return statement\n",
    "```\n",
    "\n",
    "`def`: keyword used to define a function\n",
    "`function_name`: name of the function, should be unique\n",
    "`parameters`: inputs the function accepts\n",
    "`return_value`: the value the function returns using the `return` statement\n",
    "\n",
    "**calling a function** to use a function, you need to invoke it, that is after you have defined it.\n",
    "Here is the syntax of calling a function:\n",
    "\n",
    "```python\n",
    "result_variable = function_name(argument1, argument2, ..)\n",
    "```\n",
    "`result_variable`: stores the value returned by the function(if any)\n",
    "`function_name`: the name of function you want to call\n",
    "`argument(s)`: actual valus you pass to the function"
   ]
  }
 ],
 "metadata": {
  "kernelspec": {
   "display_name": "Python 3",
   "language": "python",
   "name": "python3"
  },
  "language_info": {
   "codemirror_mode": {
    "name": "ipython",
    "version": 3
   },
   "file_extension": ".py",
   "mimetype": "text/x-python",
   "name": "python",
   "nbconvert_exporter": "python",
   "pygments_lexer": "ipython3",
   "version": "3.11.5"
  },
  "orig_nbformat": 4
 },
 "nbformat": 4,
 "nbformat_minor": 2
}
