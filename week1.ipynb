{
 "cells": [
  {
   "cell_type": "markdown",
   "metadata": {},
   "source": [
    "# week 1: Getting started with Python3"
   ]
  },
  {
   "cell_type": "markdown",
   "metadata": {},
   "source": [
    "## What is Python3 and why is it so popular?\n",
    "\n",
    "Python3 is a high level, interpreted programming language known for its simplicity, readability, and versatility. It was created by Guido van Rossum and first released in 1991.\n",
    "There are many other programming languages available, each with its own strengths and uses cases. Python's popularity however is driven by a combination of factors that make it pariticulary appealing to a broad range of developers and industries.\n",
    "\n",
    "## key reasons/factors why Python3 stands out\n",
    "\n",
    "- ease of learning and readability\n",
    "- versatility\n",
    "- large and active community\n",
    "- automation and scripting\n",
    "- community packages\n",
    "- cross-platform compatibility\n",
    "- rapid development\n",
    "- open source\n",
    "- large standard library\n",
    "\n",
    "While Python has its advantages, it's essential to choose the right programming language for a specific project based on its requirements and constraints. Differnent languages may be suited for particular tasks or industries. Python's success lies in its ability to be a versatile and accessible choice for a wide range of use cases, making it a valuable tool in the toolkit for many devs and orgs."
   ]
  },
  {
   "cell_type": "markdown",
   "metadata": {},
   "source": [
    "## To install Python3 and set up a development environment\n",
    "\n",
    "**1. Download Python:**\n",
    "Go to the official Python website https://www.python.org/downloads/ and download the latest stable version of Python3 for your OS.\n",
    "\n",
    "**2. Installation on Windows**\n",
    "Run the downloaded installer\n",
    "Check the box that says \"add Python3 to path\" during installation. This option is important to setting up the PATH environment variable correctly.\n",
    "Click install now and wait for the installtion to complete\n",
    "\n",
    "**3 Installation on mac**\n",
    "run the downloaded instaler and follow the on-screen instructions\n",
    "\n",
    "**4. Installation on Linux**\n",
    "Close to all Linux distributions come with Python3 pre-installed. Open the terminal and run the following command to verify.\n",
    "\n",
    "  `python3 --version`\n",
    "\n",
    "if not installed:\n",
    "    `sudo apt-get update`\n",
    "    `sudo apt-get install python3`\n",
    "\n",
    "**5. Verify installation:**\n",
    "Open terminal in any of the OS and type the below command. The command should display the version of python you installed. Make sure it matches the version you downloaded.\n",
    "    `python3 --version`\n",
    "\n",
    "**6. Setting up a development environment**\n",
    "Use a code editor/IDE to write Python3 code. A few popular options are: Visual Studio Code, PyCharm and Jupyter Notebook\n",
    "\n",
    "**7. Create a Python3 Virtual Environment (optional)**\n",
    "It's a good practice to create virtual enviroments for your Python projects to isolate dependencies.\n",
    "To create a virtual environment, open terminal, navigate to your project directory and run:\n",
    "    `python3 -m venv venv_name` #replace 'venv_name' with the desired name\n",
    "activate the virtual environment:\n",
    "    on linux/macOS: `source venv_name/bin/activate`\n",
    "    on windows: `venv_name\\Scripts\\activate`\n",
    "\n",
    "**8. Start coding:**\n",
    "That's it! You successfully installed python and set up a development environment. You can now begin your coding in Python3."
   ]
  },
  {
   "cell_type": "markdown",
   "metadata": {},
   "source": [
    "## First Python3 code"
   ]
  },
  {
   "cell_type": "code",
   "execution_count": 3,
   "metadata": {},
   "outputs": [
    {
     "name": "stdout",
     "output_type": "stream",
     "text": [
      "Hello world\n",
      "This is my first Python3 code\n"
     ]
    }
   ],
   "source": [
    "print(\"Hello world\")\n",
    "print(\"This is my first Python3 code\")"
   ]
  },
  {
   "cell_type": "markdown",
   "metadata": {},
   "source": [
    "## Variables, data types and basic input/output\n",
    "\n",
    "**1. Variables:** \n",
    "In Python3, variables are used to store and manipulate data. They are like a store memory location for data.\n",
    "To create a variable:\n",
    "    - the name must start with a letter(a-z, A-Z) or an underscore. Variable names can contain letters, numbers and underscores.\n",
    "    - variable names are case sensitive ('name' and 'Name' are different variables)\n",
    "    - You assign a value to a variable using the equal sign (=).\n"
   ]
  },
  {
   "cell_type": "code",
   "execution_count": 5,
   "metadata": {},
   "outputs": [],
   "source": [
    "# variable declaration and assignment\n",
    "x = 5\n",
    "name = \"John\"\n",
    "age = 56\n",
    "gender = \"Female\"\n",
    "mean = 45.56"
   ]
  },
  {
   "cell_type": "markdown",
   "metadata": {},
   "source": [
    "**2. Data Types:**\n",
    "Data types specify the types or category of data that a particular variable or value can hold. Data types define how the data is represented, stored in memory and what operations can be performed on it. Python3 offer various data types to accomdate different types of data and their behaviors. Here are the various data types in Python3:\n",
    "    - integer(int): whole numbers without decimal\n",
    "    ` age = 56`\n",
    "    - float(float): numbers with a decimal point\n",
    "    ` height = 5.7`\n",
    "    -string(str): a sequence of characters enclosed in ' ' or \" \"\n",
    "    ` name = 'Alice`\n",
    "    - Boolean(bool): represents True or False values\n",
    "    ` is_student = True`\n"
   ]
  },
  {
   "cell_type": "code",
   "execution_count": 6,
   "metadata": {},
   "outputs": [],
   "source": [
    "is_True = True\n",
    "is_student = False\n",
    "country = \"Kenya\"\n",
    "number = 2543238728\n",
    "intial = 'C'"
   ]
  },
  {
   "cell_type": "markdown",
   "metadata": {},
   "source": [
    "**3. Basic Input/Output:**\n",
    " + **Input**: to receive input from the user we use the `input()` function. It reads a line of text from the user and returns it as a string.\n",
    "\n",
    "+ **Output**: To display output to the console, use the `print()` function. It can print variables values, strings and expressions.\n"
   ]
  },
  {
   "cell_type": "code",
   "execution_count": 11,
   "metadata": {},
   "outputs": [
    {
     "name": "stdout",
     "output_type": "stream",
     "text": [
      "33\n",
      "You are from rer\n"
     ]
    }
   ],
   "source": [
    "input(\"Enter your name: \")\n",
    "country = input(\"What is the name of your country: \")\n",
    "age = input(\"What's your age: \")\n",
    "print(age)\n",
    "print(\"You are from\", country)"
   ]
  },
  {
   "cell_type": "markdown",
   "metadata": {},
   "source": [
    "### Below are some pratical examples combining variables, data types and input/ouput"
   ]
  },
  {
   "cell_type": "code",
   "execution_count": 13,
   "metadata": {},
   "outputs": [
    {
     "name": "stdout",
     "output_type": "stream",
     "text": [
      "<class 'str'>\n",
      "<class 'str'>\n",
      "45\n",
      "878788\n",
      "Hello, tom\n"
     ]
    }
   ],
   "source": [
    "# variable assignment\n",
    "name = \"Tom\"\n",
    "age = 55\n",
    "mean = 45.34\n",
    "\n",
    "# input\n",
    "your_name = input(\"Enter your name: \")\n",
    "your_number = input(\"Enter your number: \")\n",
    "\n",
    "# output the type of a variable\n",
    "print(type(your_name))\n",
    "print(type(your_number))\n",
    "\n",
    "\n",
    "# Type casting (converting a data type to another)\n",
    "num = str(your_number)  # convert int to string\n",
    "type(num)\n",
    "average = int(mean)\n",
    "\n",
    "# Basic calculations\n",
    "result = age + mean\n",
    "\n",
    "# Output\n",
    "print(average)\n",
    "print(num)\n",
    "print(\"Hello,\", your_name)\n",
    "\n",
    "\n",
    "\n",
    "\n",
    "\n"
   ]
  }
 ],
 "metadata": {
  "kernelspec": {
   "display_name": "Python 3",
   "language": "python",
   "name": "python3"
  },
  "language_info": {
   "codemirror_mode": {
    "name": "ipython",
    "version": 3
   },
   "file_extension": ".py",
   "mimetype": "text/x-python",
   "name": "python",
   "nbconvert_exporter": "python",
   "pygments_lexer": "ipython3",
   "version": "3.11.5"
  },
  "orig_nbformat": 4
 },
 "nbformat": 4,
 "nbformat_minor": 2
}
