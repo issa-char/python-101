{
 "cells": [
  {
   "cell_type": "markdown",
   "metadata": {},
   "source": [
    "### Week 13-14: Modules and libraries\n",
    "\n",
    "- import and use modules\n",
    "- explore common Python3 modules: random, datetime, json, math,\n",
    "- introduction to third party modules and package management with pip3\n",
    "\n",
    "Modules are Python3 files that contain reusable code, including functions, classes, and variables. To introduce a modules functionality into our code we `import` that specific module. To call a module's functionality, we call the module then a period and the name of function/class/variable we need.\n",
    "\n",
    "example of module importation\n",
    "```python\n",
    "import math\n",
    "resutl = math.sin(45)\n",
    "result = math.cos(50)\n",
    "```\n",
    "\n",
    "Python3 comes in with a rich standard library of modules such as `datetime`, `random`, `math`, `os`, `sys`. To view the contents of a module use `dir(module_name)`\n",
    "\n",
    "Third party modules are modules created by the Python community and extensively extend Python's capabilities. To include third party modules we use `pip3`; python package manager. `pip3` allows us to install, upgrade, and manage third party libraries from `Pypi`; a repository for Python3 packages\n",
    "\n",
    "```bash\n",
    "pip3 install module_name\n",
    "pip3 uninstall module_name\n",
    "pip3 list\n",
    "pip3 show package_name\n",
    "```"
   ]
  },
  {
   "cell_type": "code",
   "execution_count": 4,
   "metadata": {},
   "outputs": [
    {
     "name": "stdout",
     "output_type": "stream",
     "text": [
      "-0.6669380616522619\n",
      "6\n",
      "0.7756844542705367\n"
     ]
    }
   ],
   "source": [
    "import math, random \n",
    "\n",
    "result = math.cos(40)\n",
    "print(result)\n",
    "\n",
    "ran = random.random()\n",
    "t = random.randint(1, 10)\n",
    "\n",
    "print(t)\n",
    "print(ran)\n"
   ]
  }
 ],
 "metadata": {
  "kernelspec": {
   "display_name": "Python 3",
   "language": "python",
   "name": "python3"
  },
  "language_info": {
   "codemirror_mode": {
    "name": "ipython",
    "version": 3
   },
   "file_extension": ".py",
   "mimetype": "text/x-python",
   "name": "python",
   "nbconvert_exporter": "python",
   "pygments_lexer": "ipython3",
   "version": "3.11.5"
  },
  "orig_nbformat": 4
 },
 "nbformat": 4,
 "nbformat_minor": 2
}
