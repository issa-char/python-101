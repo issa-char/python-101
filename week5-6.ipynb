{
 "cells": [
  {
   "cell_type": "markdown",
   "metadata": {},
   "source": [
    "## Week 5-6: Data Structures in Python3\n",
    "In this section  I will delve into fundamental data structures in Python3, such as lists, tuples and dictinaries. These data structures are essential for organizing, storing and manipulating data effectively. Additionally you will explore string manipulation and formatting, which are crucial for handling textual data.\n",
    "These data structures are of the sequence types: type of data which is able to store more than one value or less(as a sequence may be empty) and these values can be sequentially browsed, element by element.\n",
    "Another important concept is mutability: the propertly of any data tha describes its readiness to be freely changed during the program execution - mutable and immutable.\n",
    "Mutable data can be modified while immutable cannot be modified\n",
    "\n",
    "**1. lists:**\n",
    "lists are ordered collections of elements and can contain a mix of different data types. Lists are defined using square brackets[], with elements separated by commas\n",
    "Manipulating lists: we can add and remove elements from lists, access individual elements by index, slice lists and use common lists methods like `append()`, `extend()`, `insert()`, `remove()`, `pop()`, and `clear()`"
   ]
  },
  {
   "cell_type": "code",
   "execution_count": 7,
   "metadata": {},
   "outputs": [
    {
     "name": "stdout",
     "output_type": "stream",
     "text": [
      "['goats', 'cows', 'donkeys', 'horses']\n",
      "['goats', 'rabbits', 'donkeys', 'sheeps']\n"
     ]
    }
   ],
   "source": [
    "# example of lists\n",
    "\n",
    "animals = [\"goats\", \"cows\", \"donkeys\", \"horses\" ]\n",
    "print(animals)\n",
    "animals.append(\"sheeps\")\n",
    "animals[1] = \"rabbits\"\n",
    "animals.remove(\"horses\")\n",
    "print(animals)"
   ]
  },
  {
   "cell_type": "markdown",
   "metadata": {},
   "source": [
    "**2. Tuples**\n",
    "tuples are similar to lists but are immutable meaning their elements cannot be modified after creation. They are often used for grouping related data. Tuples are defined using  parentheses`()`, with elements separated by commas.\n",
    "Tuples elements may be of different type"
   ]
  },
  {
   "cell_type": "code",
   "execution_count": 7,
   "metadata": {},
   "outputs": [
    {
     "name": "stdout",
     "output_type": "stream",
     "text": [
      "Chris\n",
      "6\n",
      "('John', 'Mike', 'Jackson', 'Ronny', 'Chris', 'Edd', 'John', 'Mike', 'Jackson', 'Ronny', 'Chris', 'Edd', 'John', 'Mike', 'Jackson', 'Ronny', 'Chris', 'Edd')\n"
     ]
    }
   ],
   "source": [
    "names = (\"John\", \"Mike\", \"Jackson\", \"Ronny\", \"Chris\", \"Edd\")\n",
    "print (names[4])\n",
    "cordinates = (5, 8)\n",
    "empty_tuple = ()\n",
    "one_elelement_tuple = (2, )\n",
    "print(len(names)) #returns the number of elements contained inside a tuple\n",
    "print(names * 3) # multiply tuples\n",
    "\n",
    "# don't try to modify the contents of a tuple, it's not a list!"
   ]
  },
  {
   "cell_type": "markdown",
   "metadata": {},
   "source": [
    "**3. Dictinaries**\n",
    "Dictionaries are unordered collections of key-value pairs, where each key maps to a value. They are used to store and retrieve data efficiently.\n",
    "It's not a sequence type type and it is mutable.\n",
    "Dictionaries are defined using curly braces, which key-value pairs separated by colons. To access the "
   ]
  },
  {
   "cell_type": "code",
   "execution_count": 11,
   "metadata": {},
   "outputs": [
    {
     "name": "stdout",
     "output_type": "stream",
     "text": [
      "Mike\n",
      "{'name': 'Mike', 'age': 44}\n",
      "{'name': 'Mike', 'country': 'South Africa'}\n",
      "name -> Mike\n",
      "country -> South Africa\n"
     ]
    }
   ],
   "source": [
    "person = {\"name\":\"Mike\", \"age\":44}\n",
    "print(person[\"name\"])\n",
    "print(person)\n",
    "person[\"country\"] = \"South Africa\"\n",
    "del person[\"age\"]\n",
    "print(person)\n",
    "\n",
    "for key in person.keys():\n",
    "    print(key, \"->\" ,person[key])"
   ]
  },
  {
   "cell_type": "markdown",
   "metadata": {},
   "source": [
    "**4. Strings**\n",
    "Strings are sequences of character and are extensively used in programming for handling textual data. We  can use various string operations such as concatenation, slicing, finding, substrings, converting cases(upper/lower) and stripping whitespace"
   ]
  },
  {
   "cell_type": "code",
   "execution_count": 14,
   "metadata": {},
   "outputs": [
    {
     "name": "stdout",
     "output_type": "stream",
     "text": [
      "Hello, Mike\n",
      "Hello,\n"
     ]
    }
   ],
   "source": [
    "name = \"Mike\"\n",
    "greetings = f\"Hello, {name}\"\n",
    "print(greetings)\n",
    "substring = greetings[0:6]\n",
    "print(substring)"
   ]
  },
  {
   "cell_type": "markdown",
   "metadata": {},
   "source": [
    "**In summary**, Weeks 5-6 in your Python learning journey focus on essential data structures and string manipulation techniques. Lists, tuples, and dictionaries are foundational for organizing and processing data, while string manipulation skills are crucial for handling textual information. These concepts are fundamental for building more complex programs and are used extensively in various domains of programming, from web development to data science."
   ]
  }
 ],
 "metadata": {
  "kernelspec": {
   "display_name": "Python 3",
   "language": "python",
   "name": "python3"
  },
  "language_info": {
   "codemirror_mode": {
    "name": "ipython",
    "version": 3
   },
   "file_extension": ".py",
   "mimetype": "text/x-python",
   "name": "python",
   "nbconvert_exporter": "python",
   "pygments_lexer": "ipython3",
   "version": "3.11.5"
  },
  "orig_nbformat": 4
 },
 "nbformat": 4,
 "nbformat_minor": 2
}
